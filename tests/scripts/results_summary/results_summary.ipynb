{
 "cells": [
  {
   "cell_type": "code",
   "execution_count": 1,
   "metadata": {},
   "outputs": [],
   "source": [
    "# Import necessary libraries\n",
    "import os\n",
    "import pandas as pd"
   ]
  },
  {
   "cell_type": "markdown",
   "metadata": {},
   "source": [
    "# 1. Accuracy Results"
   ]
  },
  {
   "cell_type": "code",
   "execution_count": 2,
   "metadata": {},
   "outputs": [],
   "source": [
    "# Function for extracting accuracy results\n",
    "\n",
    "def accuracy_results():\n",
    "    # Define the base directory path where the Excel files are located\n",
    "    directory_path = '../../data/accuracy_results/'\n",
    "\n",
    "    # Define the subdirectories for different models\n",
    "    models = ['BASELINE', 'GRU', 'LSTM', 'SARIMA', 'TBATS']\n",
    "\n",
    "    # Define the data locations for NRMSE and NMAE in each forecast category\n",
    "    data_locations = {\n",
    "        '14 days':\n",
    "            {'NRMSE': {'14 Days Training': (3, 'B:K'), 'Training:Testing = 75:25': (3, 'R:AA'), 'Training:Testing = 50:50': (3, 'AH:AQ')},\n",
    "            'NMAE': {'14 Days Training': (4, 'B:K'), 'Training:Testing = 75:25': (4, 'R:AA'), 'Training:Testing = 50:50': (4, 'AH:AQ')}},\n",
    "        '7 days':\n",
    "            {'NRMSE': {'14 Days Training': (8, 'B:K'), 'Training:Testing = 75:25': (8, 'R:AA'), 'Training:Testing = 50:50': (8, 'AH:AQ')},\n",
    "            'NMAE': {'14 Days Training': (9, 'B:K'), 'Training:Testing = 75:25': (9, 'R:AA'), 'Training:Testing = 50:50': (9, 'AH:AQ')}},\n",
    "        '3 days':\n",
    "            {'NRMSE': {'14 Days Training': (13, 'B:K'), 'Training:Testing = 75:25': (13, 'R:AA'), 'Training:Testing = 50:50': (13, 'AH:AQ')},\n",
    "            'NMAE': {'14 Days Training': (14, 'B:K'), 'Training:Testing = 75:25': (14, 'R:AA'), 'Training:Testing = 50:50': (14, 'AH:AQ')}},\n",
    "        '1 day':\n",
    "            {'NRMSE': {'14 Days Training': (18, 'B:K'), 'Training:Testing = 75:25': (18, 'R:AA'), 'Training:Testing = 50:50': (18, 'AH:AQ')},\n",
    "            'NMAE': {'14 Days Training': (19, 'B:K'), 'Training:Testing = 75:25': (19, 'R:AA'), 'Training:Testing = 50:50': (19, 'AH:AQ')}},\n",
    "    }\n",
    "\n",
    "    # Initialize a list to hold the combined NRMSE and NMAE data\n",
    "    combined_data = []\n",
    "\n",
    "    # Iterate over each training method directory\n",
    "    for model in models:\n",
    "        # Construct the full path to the model directory\n",
    "        model_path = os.path.join(directory_path, model)\n",
    "        \n",
    "        # List all Excel files in the directory\n",
    "        excel_files = [f for f in os.listdir(model_path) if f.endswith('.xlsx')]\n",
    "        \n",
    "        # Iterate over each Excel file\n",
    "        for file in excel_files:\n",
    "            # Construct the full file path\n",
    "            file_path = os.path.join(model_path, file)\n",
    "            \n",
    "            # Iterate over each forecast category to extract NRMSE and NMAE data\n",
    "            for forecast_period, metrics in data_locations.items():\n",
    "                for metric, training_methods in metrics.items():\n",
    "                    for training_method, (row, columns) in training_methods.items():\n",
    "                        try:\n",
    "                            # Load the Excel file data for the specified range\n",
    "                            df = pd.read_excel(file_path, usecols=columns, skiprows=row, nrows=1, header=None)\n",
    "                            # Flatten the data and add it to the combined data list\n",
    "                            values = df.values.flatten().tolist()\n",
    "                            combined_data.extend([(model, forecast_period, metric, training_method, value) for value in values])\n",
    "                        except Exception as e:\n",
    "                            print(f\"Error reading {file_path} for forecast period {forecast_period}, metric {metric}: {e}\")\n",
    "\n",
    "    # Convert the combined data list to a DataFrame\n",
    "    combined_df = pd.DataFrame(combined_data, columns=['Model', 'Forecast Period', 'Metric', 'Training Method', 'Value'])\n",
    "    return combined_df"
   ]
  },
  {
   "cell_type": "code",
   "execution_count": 3,
   "metadata": {},
   "outputs": [],
   "source": [
    "# Extract accuracy results\n",
    "combined_df_accuracy = accuracy_results()\n",
    "\n",
    "\n",
    "## Filter dataset for forecast period and training method so that the measurements are not impacted by outliers\n",
    "combined_df_accuracy_filtered = combined_df_accuracy[combined_df_accuracy['Value'] < 5]"
   ]
  },
  {
   "cell_type": "code",
   "execution_count": 4,
   "metadata": {},
   "outputs": [],
   "source": [
    "# Group by particular category\n",
    "demand_model_accuracies = combined_df_accuracy.groupby(by=['Metric', 'Model']).mean(numeric_only=True).round(3)\n",
    "forecast_period_accuracies = combined_df_accuracy_filtered.groupby(by=['Metric', 'Forecast Period']).mean(numeric_only=True).round(3)\n",
    "training_method_accuracies = combined_df_accuracy_filtered.groupby(by=['Metric', 'Training Method']).mean(numeric_only=True).round(3)"
   ]
  },
  {
   "cell_type": "code",
   "execution_count": 5,
   "metadata": {},
   "outputs": [],
   "source": [
    "# Sort by value\n",
    "demand_model_accuracies.sort_values(by=['Metric', 'Value'], inplace=True)\n",
    "forecast_period_accuracies.sort_values(by=['Metric', 'Value'], inplace=True)\n",
    "training_method_accuracies.sort_values(by=['Metric', 'Value'], inplace=True)"
   ]
  },
  {
   "cell_type": "code",
   "execution_count": 27,
   "metadata": {},
   "outputs": [
    {
     "name": "stdout",
     "output_type": "stream",
     "text": [
      "                      Value\n",
      "Metric Model               \n",
      "NMAE   SARIMA         0.788\n",
      "       BASELINE       1.161\n",
      "       GRU            1.827\n",
      "       LSTM           1.983\n",
      "       TBATS      94717.229\n",
      "NRMSE  SARIMA         1.105\n",
      "       BASELINE       1.468\n",
      "       GRU            2.186\n",
      "       LSTM           2.302\n",
      "       TBATS     139330.911\n",
      "                        Value\n",
      "Metric Forecast Period       \n",
      "NMAE   7 days           1.107\n",
      "       14 days          1.156\n",
      "       3 days           1.160\n",
      "       1 day            1.234\n",
      "NRMSE  7 days           1.392\n",
      "       14 days          1.404\n",
      "       3 days           1.418\n",
      "       1 day            1.512\n",
      "                                 Value\n",
      "Metric Training Method                \n",
      "NMAE   14 Days Training          1.106\n",
      "       Training:Testing = 50:50  1.191\n",
      "       Training:Testing = 75:25  1.195\n",
      "NRMSE  14 Days Training          1.369\n",
      "       Training:Testing = 75:25  1.435\n",
      "       Training:Testing = 50:50  1.489\n"
     ]
    }
   ],
   "source": [
    "# Display results\n",
    "print(demand_model_accuracies)\n",
    "print(forecast_period_accuracies)\n",
    "print(training_method_accuracies)"
   ]
  },
  {
   "cell_type": "code",
   "execution_count": 7,
   "metadata": {},
   "outputs": [],
   "source": [
    "# Record accuracy results\n",
    "def main():\n",
    "    # Make the directory for the results\n",
    "    path = '../../data/results_summary'\n",
    "    if os.path.isdir(path):\n",
    "        pass\n",
    "    else:\n",
    "        os.makedirs(path)\n",
    "    file_name = path + '/Accuracy_Results_Summary.xlsx'\n",
    "    with pd.ExcelWriter(file_name) as writer:\n",
    "        demand_model_accuracies.to_excel(writer, sheet_name='demand_model_accuracy')\n",
    "        forecast_period_accuracies.to_excel(writer, sheet_name='forecast_period_accuracy')\n",
    "        training_method_accuracies.to_excel(writer, sheet_name='training_method_accuracy')\n",
    "        \n",
    "        worksheet1 = writer.sheets['demand_model_accuracy']\n",
    "        worksheet2 = writer.sheets['forecast_period_accuracy']\n",
    "        worksheet3 = writer.sheets['training_method_accuracy']\n",
    "        \n",
    "        # Adjust the column width\n",
    "        worksheet1.set_column(1, 2, 10)\n",
    "        worksheet2.set_column(1, 1, 15)\n",
    "        worksheet2.set_column(2, 2, 8)\n",
    "        worksheet3.set_column(1, 1, 23)\n",
    "        worksheet3.set_column(2, 2, 8)\n",
    "        \n",
    "        # Adjust cell formating\n",
    "        format1 = writer.book.add_format({'border': 1})\n",
    "        worksheet1.conditional_format(0, 0, 10, 2, {'type': 'no_blanks', 'format': format1})\n",
    "        worksheet2.conditional_format(0, 0, 10, 2, {'type': 'no_blanks', 'format': format1})\n",
    "        worksheet3.conditional_format(0, 0, 10, 2, {'type': 'no_blanks', 'format': format1})\n",
    "\n",
    "main()"
   ]
  },
  {
   "cell_type": "markdown",
   "metadata": {},
   "source": [
    "# 2. Execution Time Results"
   ]
  },
  {
   "cell_type": "code",
   "execution_count": 8,
   "metadata": {},
   "outputs": [],
   "source": [
    "# Function for extracting execution time results\n",
    "\n",
    "def execution_time_results():\n",
    "    # Define the base directory path where the Excel files are located\n",
    "    directory_path = '../../data/execution_time_results/'\n",
    "\n",
    "    # Define the subdirectories for different models\n",
    "    models = ['BASELINE', 'GRU', 'LSTM', 'SARIMA', 'TBATS']\n",
    "\n",
    "    # Define the data locations for execution time values in each forecast category\n",
    "    data_locations = {\n",
    "        '14 days':\n",
    "            {'Time (s)': {'14 Days Training': (3, 'B:K'), 'Training:Testing = 75:25': (3, 'R:AA'), 'Training:Testing = 50:50': (3, 'AH:AQ')}},\n",
    "        '7 days':\n",
    "            {'Time (s)': {'14 Days Training': (7, 'B:K'), 'Training:Testing = 75:25': (7, 'R:AA'), 'Training:Testing = 50:50': (7, 'AH:AQ')}},\n",
    "        '3 days':\n",
    "            {'Time (s)': {'14 Days Training': (11, 'B:K'), 'Training:Testing = 75:25': (11, 'R:AA'), 'Training:Testing = 50:50': (11, 'AH:AQ')}},\n",
    "        '1 day':\n",
    "            {'Time (s)': {'14 Days Training': (15, 'B:K'), 'Training:Testing = 75:25': (15, 'R:AA'), 'Training:Testing = 50:50': (15, 'AH:AQ')}},\n",
    "    }\n",
    "\n",
    "    # Initialize a list to hold the combined execution time data\n",
    "    combined_data = []\n",
    "\n",
    "    # Iterate over each training method directory\n",
    "    for model in models:\n",
    "        # Construct the full path to the model directory\n",
    "        model_path = os.path.join(directory_path, model)\n",
    "        \n",
    "        # List all Excel files in the directory\n",
    "        excel_files = [f for f in os.listdir(model_path) if f.endswith('.xlsx')]\n",
    "        \n",
    "        # Iterate over each Excel file\n",
    "        for file in excel_files:\n",
    "            # Construct the full file path\n",
    "            file_path = os.path.join(model_path, file)\n",
    "            \n",
    "            # Iterate over each forecast category to extract execution time data\n",
    "            for forecast_period, metrics in data_locations.items():\n",
    "                for metric, training_methods in metrics.items():\n",
    "                    for training_method, (row, columns) in training_methods.items():\n",
    "                        try:\n",
    "                            # Load the Excel file data for the specified range\n",
    "                            df = pd.read_excel(file_path, usecols=columns, skiprows=row, nrows=1, header=None)\n",
    "                            # Flatten the data and add it to the combined data list\n",
    "                            values = df.values.flatten().tolist()\n",
    "                            combined_data.extend([(model, forecast_period, metric, training_method, value) for value in values])\n",
    "                        except Exception as e:\n",
    "                            print(f\"Error reading {file_path} for forecast period {forecast_period}, metric {metric}: {e}\")\n",
    "\n",
    "    # Convert the combined data list to a DataFrame\n",
    "    combined_df = pd.DataFrame(combined_data, columns=['Model', 'Forecast Period', 'Metric', 'Training Method', 'Value'])\n",
    "    return combined_df"
   ]
  },
  {
   "cell_type": "code",
   "execution_count": 9,
   "metadata": {},
   "outputs": [],
   "source": [
    "# Extract execution time results\n",
    "combined_df_execution_time = execution_time_results()"
   ]
  },
  {
   "cell_type": "code",
   "execution_count": 10,
   "metadata": {},
   "outputs": [],
   "source": [
    "# Group by particular category\n",
    "demand_model_execution_times = combined_df_execution_time.groupby(by=['Metric', 'Model']).mean(numeric_only=True).round(3)\n",
    "forecast_period_execution_times = combined_df_execution_time.groupby(by=['Metric', 'Forecast Period']).mean(numeric_only=True).round(3)\n",
    "training_method_execution_times = combined_df_execution_time.groupby(by=['Metric', 'Training Method']).mean(numeric_only=True).round(3)"
   ]
  },
  {
   "cell_type": "code",
   "execution_count": 11,
   "metadata": {},
   "outputs": [],
   "source": [
    "# Sort by value\n",
    "demand_model_execution_times.sort_values(by='Value', inplace=True)\n",
    "forecast_period_execution_times.sort_values(by='Value', inplace=True)\n",
    "training_method_execution_times.sort_values(by='Value', inplace=True)"
   ]
  },
  {
   "cell_type": "code",
   "execution_count": 28,
   "metadata": {},
   "outputs": [
    {
     "name": "stdout",
     "output_type": "stream",
     "text": [
      "                    Value\n",
      "Metric   Model           \n",
      "Time (s) BASELINE   0.001\n",
      "         SARIMA     0.926\n",
      "         LSTM      15.025\n",
      "         GRU       15.047\n",
      "         TBATS     21.249\n",
      "                           Value\n",
      "Metric   Forecast Period        \n",
      "Time (s) 3 days            6.859\n",
      "         1 day             7.734\n",
      "         7 days           10.466\n",
      "         14 days          16.739\n",
      "                                    Value\n",
      "Metric   Training Method                 \n",
      "Time (s) Training:Testing = 50:50   8.831\n",
      "         14 Days Training          10.140\n",
      "         Training:Testing = 75:25  12.378\n"
     ]
    }
   ],
   "source": [
    "# Display results\n",
    "print(demand_model_execution_times)\n",
    "print(forecast_period_execution_times)\n",
    "print(training_method_execution_times)"
   ]
  },
  {
   "cell_type": "code",
   "execution_count": 13,
   "metadata": {},
   "outputs": [],
   "source": [
    "# Record execution time results\n",
    "def main():\n",
    "    # Make the directory for the results\n",
    "    path = '../../data/results_summary'\n",
    "    if os.path.isdir(path):\n",
    "        pass\n",
    "    else:\n",
    "        os.makedirs(path)\n",
    "    file_name = path + '/Execution_Time_Results_Summary.xlsx'\n",
    "    with pd.ExcelWriter(file_name) as writer:\n",
    "        demand_model_execution_times.to_excel(writer, sheet_name='demand_model_execution_time')\n",
    "        forecast_period_execution_times.to_excel(writer, sheet_name='forecast_period_execution_time')\n",
    "        training_method_execution_times.to_excel(writer, sheet_name='training_method_execution_time')\n",
    "        \n",
    "        worksheet1 = writer.sheets['demand_model_execution_time']\n",
    "        worksheet2 = writer.sheets['forecast_period_execution_time']\n",
    "        worksheet3 = writer.sheets['training_method_execution_time']\n",
    "        \n",
    "        # Adjust the column width\n",
    "        worksheet1.set_column(1, 2, 10)\n",
    "        worksheet2.set_column(1, 1, 15)\n",
    "        worksheet2.set_column(2, 2, 10)\n",
    "        worksheet3.set_column(1, 1, 23)\n",
    "        worksheet3.set_column(2, 2, 10)\n",
    "        \n",
    "        # Adjust cell formating\n",
    "        format1 = writer.book.add_format({'border': 1})\n",
    "        worksheet1.conditional_format(0, 0, 10, 2, {'type': 'no_blanks', 'format': format1})\n",
    "        worksheet2.conditional_format(0, 0, 10, 2, {'type': 'no_blanks', 'format': format1})\n",
    "        worksheet3.conditional_format(0, 0, 10, 2, {'type': 'no_blanks', 'format': format1})\n",
    "\n",
    "main()"
   ]
  },
  {
   "cell_type": "markdown",
   "metadata": {},
   "source": [
    "# 3. Demand-Proportionality Results"
   ]
  },
  {
   "cell_type": "code",
   "execution_count": 14,
   "metadata": {},
   "outputs": [],
   "source": [
    "# Function for extracting demand-proportionality results\n",
    "\n",
    "def demand_proportionality_results():\n",
    "    # Construct the full file path\n",
    "    directory_path = '../../data/demand_proportionality_results/'\n",
    "\n",
    "    # Define the data locations for demand-proportionality in each forecast category\n",
    "    data_locations = {\n",
    "        '28 day':\n",
    "            {'Pearson Correlation Coefficient': {'Flat Energy': (2, 'B:K'), 'Time of Use': (3, 'B:K'), 'Range': (4, 'B:K'), 'Percentile': (5, 'B:K')}},\n",
    "        '14 days':\n",
    "            {'Pearson Correlation Coefficient': {'Flat Energy': (9, 'B:K'), 'Time of Use': (10, 'B:K'), 'Range': (11, 'B:K'), 'Percentile': (12, 'B:K')}},\n",
    "        '7 days':\n",
    "            {'Pearson Correlation Coefficient': {'Flat Energy': (16, 'B:K'), 'Time of Use': (17, 'B:K'), 'Range': (18, 'B:K'), 'Percentile': (19, 'B:K')}},\n",
    "        '3 days':\n",
    "            {'Pearson Correlation Coefficient': {'Flat Energy': (23, 'B:K'), 'Time of Use': (24, 'B:K'), 'Range': (25, 'B:K'), 'Percentile': (26, 'B:K')}},\n",
    "        '2 day':\n",
    "            {'Pearson Correlation Coefficient': {'Flat Energy': (30, 'B:K'), 'Time of Use': (31, 'B:K'), 'Range': (32, 'B:K'), 'Percentile': (33, 'B:K')}},\n",
    "        '1 day':\n",
    "            {'Pearson Correlation Coefficient': {'Flat Energy': (37, 'B:K'), 'Time of Use': (38, 'B:K'), 'Range': (39, 'B:K'), 'Percentile': (40, 'B:K')}},\n",
    "    }\n",
    "\n",
    "    # Initialize a list to hold the combined demand-proportionality data\n",
    "    combined_data = []\n",
    "        \n",
    "    # List all Excel files in the directory\n",
    "    excel_files = [f for f in os.listdir(directory_path) if f.endswith('.xlsx')]\n",
    "    \n",
    "    # Iterate over each Excel file\n",
    "    for file in excel_files:\n",
    "        # Construct the full file path\n",
    "        file_path = os.path.join(directory_path, file)\n",
    "        \n",
    "        # Iterate over each forecast category to extract demand-proportionality data\n",
    "        for test_period, metrics in data_locations.items():\n",
    "            for metric, pricing_methods in metrics.items():\n",
    "                for pricing_method, (row, columns) in pricing_methods.items():\n",
    "                    try:\n",
    "                        # Load the Excel file data for the specified range\n",
    "                        df = pd.read_excel(file_path, usecols=columns, skiprows=row, nrows=1, header=None)\n",
    "                        # Flatten the data and add it to the combined data list\n",
    "                        values = df.values.flatten().tolist()\n",
    "                        combined_data.extend([(test_period, metric, pricing_method, value) for value in values])\n",
    "                    except Exception as e:\n",
    "                        print(f\"Error reading {file_path} for test period {test_period}, pricing method {pricing_method}: {e}\")\n",
    "\n",
    "    # Convert the combined data list to a DataFrame\n",
    "    combined_df = pd.DataFrame(combined_data, columns=['Test Period', 'Metric', 'Pricing Method', 'Value'])\n",
    "    return combined_df"
   ]
  },
  {
   "cell_type": "code",
   "execution_count": 15,
   "metadata": {},
   "outputs": [],
   "source": [
    "# Extract demand-proportionality results\n",
    "combined_df_demand_proportionality = demand_proportionality_results()"
   ]
  },
  {
   "cell_type": "code",
   "execution_count": 16,
   "metadata": {},
   "outputs": [],
   "source": [
    "# Group by particular category\n",
    "pricing_method_demand_proportionalities = combined_df_demand_proportionality.groupby(by=['Metric', 'Pricing Method']).mean(numeric_only=True).round(3)\n",
    "test_period_demand_proportionalities = combined_df_demand_proportionality.groupby(by=['Metric', 'Test Period']).mean(numeric_only=True).round(3)"
   ]
  },
  {
   "cell_type": "code",
   "execution_count": 17,
   "metadata": {},
   "outputs": [],
   "source": [
    "# Sort by value\n",
    "pricing_method_demand_proportionalities.sort_values(by='Value', inplace=True)\n",
    "test_period_demand_proportionalities.sort_values(by='Value', inplace=True)"
   ]
  },
  {
   "cell_type": "code",
   "execution_count": 29,
   "metadata": {},
   "outputs": [
    {
     "name": "stdout",
     "output_type": "stream",
     "text": [
      "                                                Value\n",
      "Metric                          Pricing Method       \n",
      "Pearson Correlation Coefficient Flat Energy     0.000\n",
      "                                Time of Use     0.555\n",
      "                                Percentile      0.918\n",
      "                                Range           0.982\n",
      "                                             Value\n",
      "Metric                          Test Period       \n",
      "Pearson Correlation Coefficient 14 days      0.607\n",
      "                                28 day       0.607\n",
      "                                7 days       0.611\n",
      "                                2 day        0.617\n",
      "                                3 days       0.619\n",
      "                                1 day        0.623\n"
     ]
    }
   ],
   "source": [
    "# Display results\n",
    "print(pricing_method_demand_proportionalities)\n",
    "print(test_period_demand_proportionalities)"
   ]
  },
  {
   "cell_type": "code",
   "execution_count": 19,
   "metadata": {},
   "outputs": [],
   "source": [
    "# Record demand-proportionality results\n",
    "def main():\n",
    "    # Make the directory for the results\n",
    "    path = '../../data/results_summary'\n",
    "    if os.path.isdir(path):\n",
    "        pass\n",
    "    else:\n",
    "        os.makedirs(path)\n",
    "    file_name = path + '/Demand_Proportionality_Results_Summary.xlsx'\n",
    "    with pd.ExcelWriter(file_name) as writer:\n",
    "        pricing_method_demand_proportionalities.to_excel(writer, sheet_name='price_demand_proportionality')\n",
    "        test_period_demand_proportionalities.to_excel(writer, sheet_name='period_demand_proportionality')\n",
    "        \n",
    "        worksheet1 = writer.sheets['price_demand_proportionality']\n",
    "        worksheet2 = writer.sheets['period_demand_proportionality']\n",
    "        \n",
    "        # Adjust the column width\n",
    "        worksheet1.set_column(0, 0, 30)\n",
    "        worksheet1.set_column(1, 1, 15)\n",
    "        worksheet1.set_column(2, 2, 8)\n",
    "        worksheet2.set_column(0, 0, 30)\n",
    "        worksheet2.set_column(1, 1, 15)\n",
    "        worksheet2.set_column(2, 2, 8)\n",
    "        \n",
    "        # Adjust cell formating\n",
    "        format1 = writer.book.add_format({'border': 1})\n",
    "        worksheet1.conditional_format(0, 0, 10, 2, {'type': 'no_blanks', 'format': format1})\n",
    "        worksheet2.conditional_format(0, 0, 10, 2, {'type': 'no_blanks', 'format': format1})\n",
    "\n",
    "main()"
   ]
  },
  {
   "cell_type": "markdown",
   "metadata": {},
   "source": [
    "# 4. Revenue Results"
   ]
  },
  {
   "cell_type": "code",
   "execution_count": 20,
   "metadata": {},
   "outputs": [],
   "source": [
    "# Function for extracting revenue results\n",
    "\n",
    "def revenue_results():\n",
    "    # Construct the full file path\n",
    "    directory_path = '../../data/revenue_results/'\n",
    "\n",
    "    # Define the data locations for revenue in each forecast category\n",
    "    data_locations = {\n",
    "        '28 day':\n",
    "            {'Revenue': {'Flat Energy': (2, 'B:K'), 'Time of Use': (3, 'B:K'), 'Range': (4, 'B:K'), 'Percentile': (5, 'B:K')}},\n",
    "        '14 days':\n",
    "            {'Revenue': {'Flat Energy': (9, 'B:K'), 'Time of Use': (10, 'B:K'), 'Range': (11, 'B:K'), 'Percentile': (12, 'B:K')}},\n",
    "        '7 days':\n",
    "            {'Revenue': {'Flat Energy': (16, 'B:K'), 'Time of Use': (17, 'B:K'), 'Range': (18, 'B:K'), 'Percentile': (19, 'B:K')}},\n",
    "        '3 days':\n",
    "            {'Revenue': {'Flat Energy': (23, 'B:K'), 'Time of Use': (24, 'B:K'), 'Range': (25, 'B:K'), 'Percentile': (26, 'B:K')}},\n",
    "        '2 day':\n",
    "            {'Revenue': {'Flat Energy': (30, 'B:K'), 'Time of Use': (31, 'B:K'), 'Range': (32, 'B:K'), 'Percentile': (33, 'B:K')}},\n",
    "        '1 day':\n",
    "            {'Revenue': {'Flat Energy': (37, 'B:K'), 'Time of Use': (38, 'B:K'), 'Range': (39, 'B:K'), 'Percentile': (40, 'B:K')}},\n",
    "    }\n",
    "\n",
    "    # Initialize a list to hold the combined revenue data\n",
    "    combined_data = []\n",
    "        \n",
    "    # List all Excel files in the directory\n",
    "    excel_files = [f for f in os.listdir(directory_path) if f.endswith('.xlsx')]\n",
    "    \n",
    "    # Iterate over each Excel file\n",
    "    for file in excel_files:\n",
    "        # Construct the full file path\n",
    "        file_path = os.path.join(directory_path, file)\n",
    "        \n",
    "        # Iterate over each forecast category to extract revenue data\n",
    "        for test_period, metrics in data_locations.items():\n",
    "            for metric, pricing_methods in metrics.items():\n",
    "                for pricing_method, (row, columns) in pricing_methods.items():\n",
    "                    try:\n",
    "                        # Load the Excel file data for the specified range\n",
    "                        df = pd.read_excel(file_path, usecols=columns, skiprows=row, nrows=1, header=None)\n",
    "                        # Flatten the data and add it to the combined data list\n",
    "                        values = df.values.flatten().tolist()\n",
    "                        combined_data.extend([(test_period, metric, pricing_method, value) for value in values])\n",
    "                    except Exception as e:\n",
    "                        print(f\"Error reading {file_path} for test period {test_period}, pricing method {pricing_method}: {e}\")\n",
    "\n",
    "    # Convert the combined data list to a DataFrame\n",
    "    combined_df = pd.DataFrame(combined_data, columns=['Test Period', 'Metric', 'Pricing Method', 'Value'])\n",
    "    return combined_df"
   ]
  },
  {
   "cell_type": "code",
   "execution_count": 21,
   "metadata": {},
   "outputs": [],
   "source": [
    "# Extract revenue results\n",
    "combined_df_revenue = revenue_results()"
   ]
  },
  {
   "cell_type": "code",
   "execution_count": 22,
   "metadata": {},
   "outputs": [],
   "source": [
    "# Group by particular category\n",
    "pricing_method_revenues = combined_df_revenue.groupby(by=['Metric', 'Pricing Method']).mean(numeric_only=True).round(2)\n",
    "pricing_method_period_revenues = combined_df_revenue.groupby(by=['Metric', 'Test Period', 'Pricing Method']).mean(numeric_only=True).round(2)"
   ]
  },
  {
   "cell_type": "code",
   "execution_count": 23,
   "metadata": {},
   "outputs": [],
   "source": [
    "# Sort by value\n",
    "pricing_method_revenues.sort_values(by='Value', inplace=True, ascending=False)\n",
    "pricing_method_period_revenues.sort_values(by=['Test Period', 'Value'], inplace=True, ascending=False)"
   ]
  },
  {
   "cell_type": "code",
   "execution_count": 30,
   "metadata": {},
   "outputs": [
    {
     "name": "stdout",
     "output_type": "stream",
     "text": [
      "                         Value\n",
      "Metric  Pricing Method        \n",
      "Revenue Time of Use     258.36\n",
      "        Percentile      257.77\n",
      "        Range           244.33\n",
      "        Flat Energy     243.66\n",
      "                                     Value\n",
      "Metric  Test Period Pricing Method        \n",
      "Revenue 7 days      Time of Use     194.48\n",
      "                    Percentile      193.96\n",
      "                    Range           184.61\n",
      "                    Flat Energy     183.36\n",
      "        3 days      Time of Use      83.25\n",
      "                    Percentile       82.92\n",
      "                    Range            79.77\n",
      "                    Flat Energy      78.37\n",
      "        28 day      Time of Use     799.43\n",
      "                    Percentile      798.03\n",
      "                    Flat Energy     754.26\n",
      "                    Range           753.11\n",
      "        2 day       Time of Use      53.86\n",
      "                    Percentile       53.60\n",
      "                    Range            51.73\n",
      "                    Flat Energy      50.68\n",
      "        14 days     Time of Use     393.40\n",
      "                    Percentile      392.58\n",
      "                    Range           371.90\n",
      "                    Flat Energy     371.18\n",
      "        1 day       Time of Use      25.74\n",
      "                    Percentile       25.53\n",
      "                    Range            24.86\n",
      "                    Flat Energy      24.13\n"
     ]
    }
   ],
   "source": [
    "# Display results\n",
    "print(pricing_method_revenues)\n",
    "print(pricing_method_period_revenues)"
   ]
  },
  {
   "cell_type": "code",
   "execution_count": 25,
   "metadata": {},
   "outputs": [],
   "source": [
    "# Record revenue results\n",
    "def main():\n",
    "    # Make the directory for the results\n",
    "    path = '../../data/results_summary'\n",
    "    if os.path.isdir(path):\n",
    "        pass\n",
    "    else:\n",
    "        os.makedirs(path)\n",
    "    file_name = path + '/Revenue_Results_Summary.xlsx'\n",
    "    with pd.ExcelWriter(file_name) as writer:\n",
    "        pricing_method_revenues.to_excel(writer, sheet_name='price_method_revenue')\n",
    "        pricing_method_period_revenues.to_excel(writer, sheet_name='test_period_revenue')\n",
    "        \n",
    "        worksheet1 = writer.sheets['price_method_revenue']\n",
    "        worksheet2 = writer.sheets['test_period_revenue']\n",
    "        \n",
    "        # Adjust the column width\n",
    "        worksheet1.set_column(1, 1, 15)\n",
    "        worksheet1.set_column(2, 2, 8)\n",
    "        worksheet2.set_column(1, 2, 15)\n",
    "        worksheet2.set_column(3, 3, 8)\n",
    "        \n",
    "        # Adjust cell formating\n",
    "        format1 = writer.book.add_format({'border': 1})\n",
    "        worksheet1.conditional_format(0, 0, 10, 3, {'type': 'no_blanks', 'format': format1})\n",
    "        worksheet2.conditional_format(0, 0, 24, 3, {'type': 'no_blanks', 'format': format1})\n",
    "\n",
    "main()"
   ]
  }
 ],
 "metadata": {
  "kernelspec": {
   "display_name": "Python 3",
   "language": "python",
   "name": "python3"
  },
  "language_info": {
   "codemirror_mode": {
    "name": "ipython",
    "version": 3
   },
   "file_extension": ".py",
   "mimetype": "text/x-python",
   "name": "python",
   "nbconvert_exporter": "python",
   "pygments_lexer": "ipython3",
   "version": "3.9.5"
  }
 },
 "nbformat": 4,
 "nbformat_minor": 2
}
