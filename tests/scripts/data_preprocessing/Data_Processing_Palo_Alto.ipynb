{
 "cells": [
  {
   "cell_type": "code",
   "execution_count": 1,
   "metadata": {},
   "outputs": [],
   "source": [
    "import pandas as pd"
   ]
  },
  {
   "cell_type": "code",
   "execution_count": 2,
   "metadata": {},
   "outputs": [
    {
     "name": "stderr",
     "output_type": "stream",
     "text": [
      "<ipython-input-2-d6d5f66581e2>:2: DtypeWarning: Columns (29,30,32) have mixed types. Specify dtype option on import or set low_memory=False.\n",
      "  df = pd.read_csv('../../data/raw_data/Palo_Alto_EV_Data.csv')\n"
     ]
    }
   ],
   "source": [
    "# Load the Palo Alto EV Dataset\n",
    "df = pd.read_csv('../../data/raw_data/Palo_Alto_EV_Data.csv')"
   ]
  },
  {
   "cell_type": "code",
   "execution_count": 3,
   "metadata": {},
   "outputs": [],
   "source": [
    "# Fix Station_Name typo and remove duplicate rows\n",
    "df['Station Name'] = df.iloc[:,0].replace('PALO ALTO CA / BRYANT # 1', 'PALO ALTO CA / BRYANT #1')\n",
    "clean_table = df[['Station Name', 'Start Date', 'Charging Time (hh:mm:ss)', 'Energy (kWh)']].drop_duplicates()"
   ]
  },
  {
   "cell_type": "code",
   "execution_count": 4,
   "metadata": {},
   "outputs": [],
   "source": [
    "# Define column names for the station clusters data\n",
    "station_clusters_columns = ['Station Cluster Name', 'Station_Name']\n",
    "\n",
    "# Load the Palo Alto Station Clusters Data\n",
    "station_clusters_data = pd.read_csv('../../data/raw_data/Palo_Alto_Station_Clusters_Data.csv', header=None, names=station_clusters_columns)\n",
    "\n",
    "# Merge the cleaned EV data with the station clusters data\n",
    "joined_table = pd.merge(clean_table, station_clusters_data, left_on='Station Name', right_on='Station_Name')\n",
    "\n",
    "# Remove duplicate station name\n",
    "joined_table = joined_table.drop(columns=['Station_Name'])"
   ]
  },
  {
   "cell_type": "code",
   "execution_count": 5,
   "metadata": {},
   "outputs": [],
   "source": [
    "# Adjust the date format \n",
    "joined_table['Start Date'] = pd.to_datetime(joined_table['Start Date'], errors='coerce')\n",
    "joined_table['Start Date'] = joined_table['Start Date'].dt.strftime('%d/%m/%Y %H:%M:%S')"
   ]
  },
  {
   "cell_type": "code",
   "execution_count": 6,
   "metadata": {},
   "outputs": [],
   "source": [
    "# Load the Processed Palo Alto EV Dataset\n",
    "df = joined_table"
   ]
  },
  {
   "cell_type": "code",
   "execution_count": 7,
   "metadata": {},
   "outputs": [],
   "source": [
    "# Convert the 'Start Date' column to datetime format\n",
    "df['Start Date'] = pd.to_datetime(df['Start Date'], dayfirst=True)\n",
    "\n",
    "# Set common start and end date range\n",
    "global start_point\n",
    "start_point = pd.Timestamp('2011-07-29 20:00:00') # Based on queries_results/station_cluster_time_range\n",
    "global file_end_point\n",
    "file_end_point = pd.Timestamp('2020-12-31 22:00:00') # Based on queries_results/station_cluster_time_range"
   ]
  },
  {
   "cell_type": "code",
   "execution_count": 8,
   "metadata": {},
   "outputs": [],
   "source": [
    "# Function to create a list of time intervals the charging span\n",
    "def intervals(split_time, start_point):\n",
    "    # Calculate the end point\n",
    "    end_point = start_point + pd.Timedelta(hours=int(split_time[0]), \n",
    "                                            minutes=int(split_time[1]), \n",
    "                                            seconds=int(split_time[2]))\n",
    "\n",
    "    # Adjust end point if it falls exactly on the hour\n",
    "    if end_point == end_point.floor('60min'):\n",
    "        end_point = end_point - pd.Timedelta(hours=1)\n",
    "\n",
    "    # Create a list of time intervals\n",
    "    time_intervals = pd.period_range(start=start_point.floor('60min'), \n",
    "                                     end=end_point.floor('60min'), \n",
    "                                     freq='60T')\n",
    "    time_intervals = time_intervals.to_timestamp()\n",
    "\n",
    "    return time_intervals"
   ]
  },
  {
   "cell_type": "code",
   "execution_count": 9,
   "metadata": {},
   "outputs": [],
   "source": [
    "# Function to create a list of minutes the charging span in each time interval\n",
    "def minute_intervals(split_time, start_point):\n",
    "    end_point = start_point + pd.Timedelta(hours=int(split_time[0]), minutes=int(split_time[1]), seconds=int(split_time[2]))\n",
    "    minute_intervals = []\n",
    "    while start_point < end_point:\n",
    "        ceiling = start_point.ceil('60min')\n",
    "        # pd.Timestamp.ceil() and pd.Timestamp.floor() do not work on round hours as intended\n",
    "        if start_point == ceiling:\n",
    "            # Case when there is at least an hour left of charging\n",
    "            if start_point + pd.Timedelta(hours=1) < end_point:\n",
    "                minute_intervals.append(60)\n",
    "                start_point = start_point + pd.Timedelta(minutes=60)\n",
    "            # Case when there is less than an hour left of charging\n",
    "            else:\n",
    "                minutes_value = (end_point - start_point) / pd.Timedelta(minutes=1)\n",
    "                minute_intervals.append(minutes_value)\n",
    "                start_point = start_point + pd.Timedelta(minutes=minutes_value)\n",
    "\n",
    "        else:            \n",
    "            # Case when there is at least an hour left of charging\n",
    "            if ceiling < end_point:\n",
    "                minutes_value = (ceiling - start_point) / pd.Timedelta(minutes=1)\n",
    "                minute_intervals.append(minutes_value)\n",
    "                start_point = start_point + pd.Timedelta(minutes=minutes_value)\n",
    "            # Case when there is less than an hour left of charging\n",
    "            else:\n",
    "                minutes_value = (end_point - start_point) / pd.Timedelta(minutes=1)\n",
    "                minute_intervals.append(minutes_value)\n",
    "                start_point = start_point + pd.Timedelta(minutes=minutes_value)\n",
    "\n",
    "    return minute_intervals"
   ]
  },
  {
   "cell_type": "code",
   "execution_count": 10,
   "metadata": {},
   "outputs": [],
   "source": [
    "# Function that iterates over input data rows, sums up respective split energy for periods and outputs a file\n",
    "def dictionary_add_station(cluster_name):\n",
    "    time_intervals = pd.period_range(start=start_point, end=file_end_point, freq='60T')\n",
    "    time_intervals = time_intervals.to_timestamp()\n",
    "    # Filter table for appropriate station cluster\n",
    "    station_table = df[df['Station Cluster Name']==cluster_name]\n",
    "    station_table.reset_index(drop=True, inplace=True)\n",
    "\n",
    "    # Dictionary for each time period and energy value\n",
    "    hour_energy_dict = {}\n",
    "    for i in time_intervals:\n",
    "        hour_energy_dict[i] = 0\n",
    "\n",
    "    # Dictionary for each time period and charging duration value\n",
    "    hour_duration_dict = {}\n",
    "    for i in time_intervals:\n",
    "        hour_duration_dict[i] = 0\n",
    "\n",
    "    i = 0\n",
    "    # For every charging instace\n",
    "    while i < len(station_table):\n",
    "        # Extract hour, minute and second duration of charging\n",
    "        split_time = station_table['Charging Time (hh:mm:ss)'][i].split(':')\n",
    "\n",
    "        # Identify the hour intervals that the charging spans\n",
    "        row_intervals = intervals(split_time, station_table['Start Date'][i])\n",
    "\n",
    "        # Calculate how long charging was done in each interval\n",
    "        minute_split = minute_intervals(split_time, station_table['Start Date'][i])\n",
    "\n",
    "        # Extract energy in charging instance\n",
    "        energy = station_table['Energy (kWh)'][i]\n",
    "\n",
    "        j = 0\n",
    "\n",
    "        # Update the energy values in dictionary for each hour interval\n",
    "        while j < len(row_intervals):\n",
    "            hour_energy_dict[row_intervals[j]] = hour_energy_dict[row_intervals[j]] + (minute_split[j] * energy / sum(minute_split))\n",
    "            j = j + 1\n",
    "        i = i + 1\n",
    "\n",
    "    # Create output file\n",
    "    hour_list = []\n",
    "    energy_list = []\n",
    "    for k in hour_energy_dict.keys():\n",
    "        hour_list.append(k)\n",
    "        energy_list.append(hour_energy_dict[k])\n",
    "    data = {\n",
    "        \"Hour\": hour_list,\n",
    "        \"Energy\": energy_list\n",
    "    }\n",
    "    new_df = pd.DataFrame(data=data)\n",
    "    new_file_name = '../../data/clean_data/' + cluster_name + '.csv'\n",
    "\n",
    "    # Columns are respectively: datetime, total energy demand in hour\n",
    "    new_df.to_csv(new_file_name, index=False)"
   ]
  },
  {
   "cell_type": "code",
   "execution_count": 11,
   "metadata": {},
   "outputs": [],
   "source": [
    "#  Process every station's data\n",
    "def main():\n",
    "    cluster_names = ['WEBSTER', 'CAMBRIDGE', 'MPL', 'RINCONADA LIB', 'TED THOMPSON', 'HAMILTON', 'HIGH', 'BRYANT']\n",
    "    for k in cluster_names:\n",
    "        dictionary_add_station(k)\n",
    "\n",
    "main()"
   ]
  }
 ],
 "metadata": {
  "kernelspec": {
   "display_name": "Python 3",
   "language": "python",
   "name": "python3"
  },
  "language_info": {
   "codemirror_mode": {
    "name": "ipython",
    "version": 3
   },
   "file_extension": ".py",
   "mimetype": "text/x-python",
   "name": "python",
   "nbconvert_exporter": "python",
   "pygments_lexer": "ipython3",
   "version": "3.9.5"
  }
 },
 "nbformat": 4,
 "nbformat_minor": 2
}
