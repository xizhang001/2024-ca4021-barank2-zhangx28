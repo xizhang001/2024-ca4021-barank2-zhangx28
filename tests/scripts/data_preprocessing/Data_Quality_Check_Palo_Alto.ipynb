{
 "cells": [
  {
   "cell_type": "code",
   "execution_count": 3,
   "metadata": {},
   "outputs": [],
   "source": [
    "import pandas as pd\n",
    "from datetime import datetime"
   ]
  },
  {
   "cell_type": "code",
   "execution_count": 4,
   "metadata": {},
   "outputs": [
    {
     "name": "stderr",
     "output_type": "stream",
     "text": [
      "/var/folders/s2/xz90sr9d5976r79gs5qddsh00000gn/T/ipykernel_15919/766749886.py:2: DtypeWarning: Columns (29,30,32) have mixed types. Specify dtype option on import or set low_memory=False.\n",
      "  df = pd.read_csv(\"../../data/raw_data/Palo_Alto_EV_Data.csv\")\n"
     ]
    }
   ],
   "source": [
    "# Load the Palo Alto EV Dataset\n",
    "df = pd.read_csv(\"../../data/raw_data/Palo_Alto_EV_Data.csv\")"
   ]
  },
  {
   "cell_type": "code",
   "execution_count": 5,
   "metadata": {},
   "outputs": [
    {
     "data": {
      "text/plain": [
       "['PALO ALTO CA / BRYANT # 1',\n",
       " 'PALO ALTO CA / BRYANT #1',\n",
       " 'PALO ALTO CA / BRYANT #2',\n",
       " 'PALO ALTO CA / BRYANT #3',\n",
       " 'PALO ALTO CA / BRYANT #4',\n",
       " 'PALO ALTO CA / BRYANT #5',\n",
       " 'PALO ALTO CA / BRYANT #6',\n",
       " 'PALO ALTO CA / CAMBRIDGE #1',\n",
       " 'PALO ALTO CA / CAMBRIDGE #2',\n",
       " 'PALO ALTO CA / CAMBRIDGE #3',\n",
       " 'PALO ALTO CA / CAMBRIDGE #4',\n",
       " 'PALO ALTO CA / CAMBRIDGE #5',\n",
       " 'PALO ALTO CA / HAMILTON #1',\n",
       " 'PALO ALTO CA / HAMILTON #2',\n",
       " 'PALO ALTO CA / HIGH #1',\n",
       " 'PALO ALTO CA / HIGH #2',\n",
       " 'PALO ALTO CA / HIGH #3',\n",
       " 'PALO ALTO CA / HIGH #4',\n",
       " 'PALO ALTO CA / MPL #1',\n",
       " 'PALO ALTO CA / MPL #2',\n",
       " 'PALO ALTO CA / MPL #3',\n",
       " 'PALO ALTO CA / MPL #4',\n",
       " 'PALO ALTO CA / MPL #5',\n",
       " 'PALO ALTO CA / MPL #6',\n",
       " 'PALO ALTO CA / RINCONADA LIB 1',\n",
       " 'PALO ALTO CA / RINCONADA LIB 2',\n",
       " 'PALO ALTO CA / RINCONADA LIB 3',\n",
       " 'PALO ALTO CA / SHERMAN 1',\n",
       " 'PALO ALTO CA / SHERMAN 11',\n",
       " 'PALO ALTO CA / SHERMAN 14',\n",
       " 'PALO ALTO CA / SHERMAN 15',\n",
       " 'PALO ALTO CA / SHERMAN 17',\n",
       " 'PALO ALTO CA / SHERMAN 2',\n",
       " 'PALO ALTO CA / SHERMAN 3',\n",
       " 'PALO ALTO CA / SHERMAN 4',\n",
       " 'PALO ALTO CA / SHERMAN 5',\n",
       " 'PALO ALTO CA / SHERMAN 6',\n",
       " 'PALO ALTO CA / SHERMAN 7',\n",
       " 'PALO ALTO CA / SHERMAN 8',\n",
       " 'PALO ALTO CA / SHERMAN 9',\n",
       " 'PALO ALTO CA / TED THOMPSON #1',\n",
       " 'PALO ALTO CA / TED THOMPSON #2',\n",
       " 'PALO ALTO CA / TED THOMPSON #3',\n",
       " 'PALO ALTO CA / TED THOMPSON #4',\n",
       " 'PALO ALTO CA / WEBSTER #1',\n",
       " 'PALO ALTO CA / WEBSTER #2',\n",
       " 'PALO ALTO CA / WEBSTER #3']"
      ]
     },
     "execution_count": 5,
     "metadata": {},
     "output_type": "execute_result"
    }
   ],
   "source": [
    "# Extract and sort unique station names\n",
    "unique_stations = df[\"Station Name\"].unique()\n",
    "sorted_stations = sorted(list(unique_stations))\n",
    "sorted_stations"
   ]
  },
  {
   "cell_type": "code",
   "execution_count": 6,
   "metadata": {},
   "outputs": [
    {
     "name": "stdout",
     "output_type": "stream",
     "text": [
      "Missing Values:\n",
      " Station Name                           0\n",
      "MAC Address                            0\n",
      "Org Name                               0\n",
      "Start Date                             0\n",
      "Start Time Zone                        0\n",
      "End Date                               0\n",
      "End Time Zone                          0\n",
      "Transaction Date (Pacific Time)      209\n",
      "Total Duration (hh:mm:ss)              0\n",
      "Charging Time (hh:mm:ss)               0\n",
      "Energy (kWh)                           0\n",
      "GHG Savings (kg)                       0\n",
      "Gasoline Savings (gallons)             0\n",
      "Port Type                              9\n",
      "Port Number                            0\n",
      "Plug Type                              0\n",
      "EVSE ID                            78948\n",
      "Address 1                              0\n",
      "City                                   0\n",
      "State/Province                         0\n",
      "Postal Code                            0\n",
      "Country                                0\n",
      "Latitude                               0\n",
      "Longitude                              0\n",
      "Currency                            1788\n",
      "Fee                                    0\n",
      "Ended By                             248\n",
      "Plug In Event Id                       0\n",
      "Driver Postal Code                  8402\n",
      "User ID                             7677\n",
      "County                             84665\n",
      "System S/N                         78948\n",
      "Model Number                       78948\n",
      "dtype: int64\n"
     ]
    }
   ],
   "source": [
    "# Check for any missing values in the DataFrame\n",
    "def check_missing_values(df):\n",
    "    return df.isnull().sum()\n",
    "\n",
    "# Check for missing values\n",
    "missing_values = check_missing_values(df)\n",
    "print('Missing Values:\\n', missing_values)"
   ]
  },
  {
   "cell_type": "code",
   "execution_count": 7,
   "metadata": {},
   "outputs": [
    {
     "name": "stdout",
     "output_type": "stream",
     "text": [
      "Number of duplicate rows: 4\n",
      "Duplicate rows:\n",
      "                    Station Name          MAC Address            Org Name  \\\n",
      "32434      PALO ALTO CA / MPL #6     000D6F00015B7509  City of Palo Alto    \n",
      "108236    PALO ALTO CA / HIGH #2  0024:B100:0002:5959  City of Palo Alto    \n",
      "109967  PALO ALTO CA / BRYANT #2  000D:6F00:009D:CFC3  City of Palo Alto    \n",
      "206765  PALO ALTO CA / BRYANT #5  0024:B100:0002:6D51  City of Palo Alto    \n",
      "\n",
      "              Start Date Start Time Zone          End Date End Time Zone  \\\n",
      "32434    2/25/2015 15:24             PST   2/25/2015 15:46           PST   \n",
      "108236   2/27/2017 11:14             PST   2/27/2017 14:17           PST   \n",
      "109967  03/10/2017 14:07             PST  03/10/2017 15:53           PST   \n",
      "206765    4/29/2019 8:10             PDT    4/29/2019 9:09           PDT   \n",
      "\n",
      "       Transaction Date (Pacific Time) Total Duration (hh:mm:ss)  \\\n",
      "32434                  2/25/2015 15:46                  00:22:23   \n",
      "108236                 2/27/2017 14:17                  03:02:42   \n",
      "109967                03/10/2017 15:53                  01:46:01   \n",
      "206765                  4/29/2019 9:10                  00:59:06   \n",
      "\n",
      "       Charging Time (hh:mm:ss)  ...   Longitude  Currency   Fee  \\\n",
      "32434                  00:22:10  ... -122.113457       USD  0.00   \n",
      "108236                 02:33:45  ... -122.163017       USD  0.00   \n",
      "109967                 01:24:31  ... -122.162140       USD  0.00   \n",
      "206765                 00:57:54  ... -122.162231       USD  1.33   \n",
      "\n",
      "                   Ended By  Plug In Event Id Driver Postal Code    User ID  \\\n",
      "32434   Plug Out at Vehicle               469            95134.0   318799.0   \n",
      "108236  Plug Out at Vehicle        1488222853            94301.0     738281   \n",
      "109967             Customer              9453            94065.0     548777   \n",
      "206765  Plug Out at Vehicle              3413            94027.0  4516921.0   \n",
      "\n",
      "                    County    System S/N   Model Number  \n",
      "32434                  NaN           NaN            NaN  \n",
      "108236  Santa Clara County  1.640410e+11      CT4020-HD  \n",
      "109967  Santa Clara County  1.023100e+11  CT2100-HD-CCR  \n",
      "206765  Santa Clara County  1.710000e+11      CT4020-HD  \n",
      "\n",
      "[4 rows x 33 columns]\n"
     ]
    }
   ],
   "source": [
    "# Check for duplicate rows\n",
    "def check_duplicate_rows(df):\n",
    "    duplicate_sum = df.duplicated().sum()\n",
    "    duplicate_rows = df[df.duplicated()]\n",
    "    return duplicate_sum, duplicate_rows\n",
    "\n",
    "duplicate_count, duplicate_data = check_duplicate_rows(df)\n",
    "print(\"Number of duplicate rows:\", duplicate_count)\n",
    "print(\"Duplicate rows:\")\n",
    "print(duplicate_data)"
   ]
  },
  {
   "cell_type": "code",
   "execution_count": 8,
   "metadata": {},
   "outputs": [
    {
     "name": "stdout",
     "output_type": "stream",
     "text": [
      "Station Name [<class 'str'>]\n",
      "MAC Address [<class 'str'>]\n",
      "Org Name [<class 'str'>]\n",
      "Start Date [<class 'str'>]\n",
      "Start Time Zone [<class 'str'>]\n",
      "End Date [<class 'str'>]\n",
      "End Time Zone [<class 'str'>]\n",
      "Transaction Date (Pacific Time) [<class 'str'> <class 'float'>]\n",
      "Total Duration (hh:mm:ss) [<class 'str'>]\n",
      "Charging Time (hh:mm:ss) [<class 'str'>]\n",
      "Energy (kWh) [<class 'float'>]\n",
      "GHG Savings (kg) [<class 'float'>]\n",
      "Gasoline Savings (gallons) [<class 'float'>]\n",
      "Port Type [<class 'str'> <class 'float'>]\n",
      "Port Number [<class 'int'>]\n",
      "Plug Type [<class 'str'>]\n",
      "EVSE ID [<class 'float'>]\n",
      "Address 1 [<class 'str'>]\n",
      "City [<class 'str'>]\n",
      "State/Province [<class 'str'>]\n",
      "Postal Code [<class 'int'>]\n",
      "Country [<class 'str'>]\n",
      "Latitude [<class 'float'>]\n",
      "Longitude [<class 'float'>]\n",
      "Currency [<class 'str'> <class 'float'>]\n",
      "Fee [<class 'float'>]\n",
      "Ended By [<class 'str'> <class 'float'>]\n",
      "Plug In Event Id [<class 'int'>]\n",
      "Driver Postal Code [<class 'float'>]\n",
      "User ID [<class 'float'> <class 'str'>]\n",
      "County [<class 'float'> <class 'str'>]\n",
      "System S/N [<class 'float'>]\n",
      "Model Number [<class 'float'> <class 'str'>]\n"
     ]
    }
   ],
   "source": [
    "# Check for consistent data types in the DataFrame\n",
    "for col in df.columns:\n",
    "    unique_types = df[col].apply(type).unique()\n",
    "    print(col, unique_types)"
   ]
  },
  {
   "cell_type": "code",
   "execution_count": 9,
   "metadata": {},
   "outputs": [
    {
     "name": "stdout",
     "output_type": "stream",
     "text": [
      "Invalid dates: 0\n"
     ]
    }
   ],
   "source": [
    "# Convert 'Start Date' to datetime and handle invalid dates\n",
    "df['Start Date'] = pd.to_datetime(df['Start Date'], errors='coerce')\n",
    "\n",
    "# Check for invalid dates (NaT)\n",
    "invalid_dates = df['Start Date'].isna().sum()\n",
    "print(f\"Invalid dates: {invalid_dates}\")"
   ]
  },
  {
   "cell_type": "code",
   "execution_count": 10,
   "metadata": {},
   "outputs": [
    {
     "name": "stdout",
     "output_type": "stream",
     "text": [
      "Future dates: 0\n"
     ]
    }
   ],
   "source": [
    "# Ensure there are no future dates\n",
    "current_date = datetime.now()\n",
    "future_dates = df[df['Start Date'] > current_date]\n",
    "print(f\"Future dates: {len(future_dates)}\")"
   ]
  },
  {
   "cell_type": "code",
   "execution_count": 13,
   "metadata": {},
   "outputs": [
    {
     "name": "stdout",
     "output_type": "stream",
     "text": [
      "Invalid energy readings: 0\n",
      "Negative energy readings: 0\n",
      "Zero energy readings: 0\n"
     ]
    }
   ],
   "source": [
    "# Convert 'Energy (kWh)' to numeric and handle non-numeric values\n",
    "df['Energy (kWh)'] = pd.to_numeric(df['Energy (kWh)'], errors='coerce')\n",
    "\n",
    "# Check for invalid or negative energy readings\n",
    "invalid_energy = df['Energy (kWh)'].isna().sum()\n",
    "negative_energy = df[df['Energy (kWh)'] < 0].shape[0]\n",
    "zero_energy = df[df['Energy (kWh)'] == 0].shape[0]\n",
    "print(f\"Invalid energy readings: {invalid_energy}\")\n",
    "print(f\"Negative energy readings: {negative_energy}\")\n",
    "print(f\"Zero energy readings: {zero_energy}\")\n"
   ]
  }
 ],
 "metadata": {
  "kernelspec": {
   "display_name": "Python 3",
   "language": "python",
   "name": "python3"
  },
  "language_info": {
   "codemirror_mode": {
    "name": "ipython",
    "version": 3
   },
   "file_extension": ".py",
   "mimetype": "text/x-python",
   "name": "python",
   "nbconvert_exporter": "python",
   "pygments_lexer": "ipython3",
   "version": "3.12.0b4"
  }
 },
 "nbformat": 4,
 "nbformat_minor": 2
}
